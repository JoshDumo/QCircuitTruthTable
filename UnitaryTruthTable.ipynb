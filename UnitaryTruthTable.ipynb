{
 "cells": [
  {
   "cell_type": "code",
   "execution_count": 1,
   "id": "1a117617",
   "metadata": {},
   "outputs": [],
   "source": [
    "import numpy as np\n",
    "# Importing standard Qiskit libraries\n",
    "from qiskit import QuantumCircuit, QuantumRegister, ClassicalRegister, transpile, Aer, IBMQ\n",
    "import qiskit.quantum_info as qi\n",
    "from qiskit.tools.jupyter import *\n",
    "from qiskit.visualization import *\n",
    "from ibm_quantum_widgets import *\n",
    "from qiskit_textbook.tools import array_to_latex\n",
    "import pandas as pd\n",
    "\n",
    "# Loading your IBM Quantum account(s)\n",
    "provider = IBMQ.load_account()"
   ]
  },
  {
   "cell_type": "markdown",
   "id": "a22aff25",
   "metadata": {},
   "source": [
    "### Define circuit to truth table function"
   ]
  },
  {
   "cell_type": "code",
   "execution_count": 14,
   "id": "8e5904ed",
   "metadata": {},
   "outputs": [],
   "source": [
    "def circuit_to_truthtable(circuit):\n",
    "    circ_mx = qi.Operator(circuit).data\n",
    "    input_bin = []\n",
    "    output_bin = []\n",
    "    dims = circ_mx.shape[0]\n",
    "    n_bits = len(\"{0:b}\".format(dims-1))\n",
    "    for c in range(dims):\n",
    "        col = [sub[c] for sub in circ_mx]\n",
    "        ones_in_col = col.count(1)\n",
    "        if ones_in_col != 1:\n",
    "            print(\"Error! Not classical\")\n",
    "        else:\n",
    "            tt_in = bin(c)[2:].zfill(n_bits)\n",
    "            input_bin.append(tt_in)\n",
    "            tt_out = bin(col.index(1))[2:].zfill(n_bits)\n",
    "            output_bin.append(tt_out)\n",
    "    return list(zip(input_bin, output_bin))"
   ]
  },
  {
   "cell_type": "markdown",
   "id": "611959a5",
   "metadata": {},
   "source": [
    "## Classical circuit examples\n",
    "### X-gate"
   ]
  },
  {
   "cell_type": "code",
   "execution_count": 18,
   "id": "e62bdf00",
   "metadata": {},
   "outputs": [
    {
     "name": "stdout",
     "output_type": "stream",
     "text": [
      "1\n"
     ]
    },
    {
     "data": {
      "text/html": [
       "<div>\n",
       "<style scoped>\n",
       "    .dataframe tbody tr th:only-of-type {\n",
       "        vertical-align: middle;\n",
       "    }\n",
       "\n",
       "    .dataframe tbody tr th {\n",
       "        vertical-align: top;\n",
       "    }\n",
       "\n",
       "    .dataframe thead th {\n",
       "        text-align: right;\n",
       "    }\n",
       "</style>\n",
       "<table border=\"1\" class=\"dataframe\">\n",
       "  <thead>\n",
       "    <tr style=\"text-align: right;\">\n",
       "      <th></th>\n",
       "      <th>Input</th>\n",
       "      <th>Output</th>\n",
       "    </tr>\n",
       "  </thead>\n",
       "  <tbody>\n",
       "    <tr>\n",
       "      <th>0</th>\n",
       "      <td>0</td>\n",
       "      <td>1</td>\n",
       "    </tr>\n",
       "    <tr>\n",
       "      <th>1</th>\n",
       "      <td>1</td>\n",
       "      <td>0</td>\n",
       "    </tr>\n",
       "  </tbody>\n",
       "</table>\n",
       "</div>"
      ],
      "text/plain": [
       "  Input Output\n",
       "0     0      1\n",
       "1     1      0"
      ]
     },
     "execution_count": 18,
     "metadata": {},
     "output_type": "execute_result"
    },
    {
     "data": {
      "image/png": "[encoded data removed]",
      "text/plain": [
       "<Figure size 146.797x84.28 with 1 Axes>"
      ]
     },
     "metadata": {},
     "output_type": "display_data"
    }
   ],
   "source": [
    "# NOT\n",
    "qx = QuantumRegister(1)\n",
    "circuit_x = QuantumCircuit(qx)\n",
    "circuit_x.x(qx[0])\n",
    "#qc.measure(q,c)\n",
    "circuit_x.draw()\n",
    "\n",
    "x_tt = circuit_to_truthtable(circuit_x)\n",
    "pd.DataFrame(x_tt, columns=[\"Input\",\"Output\"])"
   ]
  },
  {
   "cell_type": "markdown",
   "id": "d0e55247",
   "metadata": {},
   "source": [
    "### CX-gate"
   ]
  },
  {
   "cell_type": "code",
   "execution_count": 4,
   "id": "26816d7d",
   "metadata": {},
   "outputs": [
    {
     "data": {
      "image/png": "[encoded data removed]",
      "text/plain": [
       "<Figure size 159.778x144.48 with 1 Axes>"
      ]
     },
     "execution_count": 4,
     "metadata": {},
     "output_type": "execute_result"
    },
    {
     "data": {
      "image/png": "[encoded data removed]",
      "text/plain": [
       "<Figure size 159.778x144.48 with 1 Axes>"
      ]
     },
     "metadata": {},
     "output_type": "display_data"
    }
   ],
   "source": [
    "# CNOT\n",
    "qcx = QuantumRegister(2)\n",
    "circuit_cx = QuantumCircuit(qcx)\n",
    "circuit_cx.cx(qcx[0],qcx[1])\n",
    "#qc.measure(q,c)\n",
    "circuit_cx.draw()\n",
    "\n",
    "cx_tt = circuit_to_truthtable(circuit_cx)\n",
    "pd.DataFrame(cx_tt, columns=[\"Input\",\"Output\"])"
   ]
  },
  {
   "cell_type": "markdown",
   "id": "304586c0",
   "metadata": {},
   "source": [
    "### CCX-gate"
   ]
  },
  {
   "cell_type": "code",
   "execution_count": 5,
   "id": "a6ef4622",
   "metadata": {},
   "outputs": [
    {
     "data": {
      "image/png": "[encoded data removed]",
      "text/plain": [
       "<Figure size 160.069x204.68 with 1 Axes>"
      ]
     },
     "execution_count": 5,
     "metadata": {},
     "output_type": "execute_result"
    },
    {
     "data": {
      "image/png": "[encoded data removed]",
      "text/plain": [
       "<Figure size 160.069x204.68 with 1 Axes>"
      ]
     },
     "metadata": {},
     "output_type": "display_data"
    }
   ],
   "source": [
    "# CCNOT\n",
    "qccx = QuantumRegister(3)\n",
    "circuit_ccx = QuantumCircuit(qccx)\n",
    "circuit_ccx.ccx(qccx[0],qccx[1],qccx[2])\n",
    "#qc.measure(q,c)\n",
    "circuit_ccx.draw()\n",
    "\n",
    "ccx_tt = circuit_to_truthtable(circuit_ccx)\n",
    "pd.DataFrame(ccx_tt, columns=[\"Input\",\"Output\"])"
   ]
  }
 ],
 "metadata": {
  "kernelspec": {
   "display_name": "Python 3 (ipykernel)",
   "language": "python",
   "name": "python3"
  },
  "language_info": {
   "codemirror_mode": {
    "name": "ipython",
    "version": 3
   },
   "file_extension": ".py",
   "mimetype": "text/x-python",
   "name": "python",
   "nbconvert_exporter": "python",
   "pygments_lexer": "ipython3",
   "version": "3.8.10"
  }
 },
 "nbformat": 4,
 "nbformat_minor": 5
}
